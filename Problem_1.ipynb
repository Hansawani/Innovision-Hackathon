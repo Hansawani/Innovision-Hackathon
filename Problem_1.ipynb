{
  "cells": [
    {
      "cell_type": "code",
      "execution_count": null,
      "metadata": {
        "id": "4lPhNtgF4203"
      },
      "outputs": [],
      "source": [
        "import numpy as np\n",
        "import pandas as pd\n",
        "from sklearn.preprocessing import StandardScaler\n",
        "from sklearn.mixture import GaussianMixture\n",
        "from sklearn.ensemble import RandomForestClassifier\n",
        "from sklearn.model_selection import train_test_split\n",
        "from sklearn.metrics import accuracy_score"
      ]
    },
    {
      "cell_type": "code",
      "execution_count": null,
      "metadata": {
        "id": "RcYlzzgy5FWx"
      },
      "outputs": [],
      "source": [
        "#Load & Preprocess Unlabeled Dataset\n",
        "df_unlabeled = pd.read_csv(\"preprocessed_Spotify_dataset.csv\")\n",
        "\n",
        "features = ['Danceability', 'Energy', 'Key', 'Loudness', 'Speechiness',\n",
        "            'Acousticness', 'Instrumentalness', 'Liveness', 'Valence', 'Tempo', 'Duration_ms']\n",
        "\n",
        "df_unlabeled[features] = df_unlabeled[features].fillna(df_unlabeled[features].mean())\n",
        "\n",
        "scaler = StandardScaler()\n",
        "X_unlabeled_scaled = scaler.fit_transform(df_unlabeled[features])\n",
        "\n",
        "import pickle\n",
        "with open(\"scaler.pkl\", \"wb\") as f:\n",
        "    pickle.dump(scaler, f)"
      ]
    },
    {
      "cell_type": "code",
      "execution_count": null,
      "metadata": {
        "colab": {
          "base_uri": "https://localhost:8080/"
        },
        "id": "w7asbyiF5W8a",
        "outputId": "26a9aa0c-5030-4a24-abd4-dad1bf75e46e"
      },
      "outputs": [
        {
          "output_type": "stream",
          "name": "stdout",
          "text": [
            "Optimal number of clusters based on BIC: 14\n"
          ]
        }
      ],
      "source": [
        "#finding optimal cluster number\n",
        "bic_scores = []\n",
        "aic_scores = []\n",
        "cluster_range = range(2, 15)\n",
        "\n",
        "for n in cluster_range:\n",
        "    gmm = GaussianMixture(n_components=n, random_state=42)\n",
        "    gmm.fit(X_unlabeled_scaled)\n",
        "    bic_scores.append(gmm.bic(X_unlabeled_scaled))\n",
        "    aic_scores.append(gmm.aic(X_unlabeled_scaled))\n",
        "\n",
        "n_clusters = cluster_range[np.argmin(bic_scores)]\n",
        "print(f\"Optimal number of clusters based on BIC: {n_clusters}\")"
      ]
    },
    {
      "cell_type": "code",
      "execution_count": null,
      "metadata": {
        "id": "vJRzRIy55_6h"
      },
      "outputs": [],
      "source": [
        "#Applying GMM\n",
        "gmm = GaussianMixture(n_components=n_clusters, random_state=42)\n",
        "df_unlabeled['Cluster'] = gmm.fit_predict(X_unlabeled_scaled)\n",
        "\n",
        "proba_df = pd.DataFrame(gmm.predict_proba(X_unlabeled_scaled), columns=[f'Cluster_{i}' for i in range(n_clusters)])\n",
        "\n",
        "df_unlabeled = df_unlabeled.join(proba_df)\n",
        "\n",
        "with open(\"gmm_model.pkl\", \"wb\") as f:\n",
        "    pickle.dump(gmm, f)\n",
        "\n",
        "df_unlabeled.to_csv(\"gmm_clustered_songs.csv\", index=False)"
      ]
    },
    {
      "cell_type": "code",
      "execution_count": null,
      "metadata": {
        "id": "TdOq9TsoAVEx",
        "colab": {
          "base_uri": "https://localhost:8080/"
        },
        "outputId": "b3ed9885-57c8-40c5-cf7b-432dd7c555e8"
      },
      "outputs": [
        {
          "output_type": "stream",
          "name": "stdout",
          "text": [
            "         Danceability    Energy       Key  Loudness  Speechiness  \\\n",
            "Cluster                                                            \n",
            "0           -0.818036 -0.717622  0.048396 -1.220520    -0.428024   \n",
            "1            0.528699 -0.001718  0.087939  0.050209     1.809098   \n",
            "2           -0.261988 -0.444286  0.078459 -0.426755    -0.907664   \n",
            "3            0.081451  0.715835  0.086108  0.463608     0.165675   \n",
            "4            0.019902  0.018784 -0.034136 -0.194779    -0.707228   \n",
            "5            0.051668  0.420475  0.359293  0.425042    -0.171416   \n",
            "6           -0.657933 -1.102263 -0.086052 -0.552149    -0.877075   \n",
            "7           -0.833687  1.398370 -0.029974  0.858652     0.046354   \n",
            "8           -0.037535  0.118949 -1.081438  0.272684    -0.782452   \n",
            "9            0.345628  0.198883 -1.365000  0.351131     0.422263   \n",
            "10          -0.874775 -1.549546 -0.140811 -1.410193    -0.836256   \n",
            "11           0.200410  0.108561  0.654126  0.259972    -0.102088   \n",
            "12           0.457457  0.113491  0.066928  0.031331     0.655307   \n",
            "13           0.017354  0.268231 -0.028079 -0.184389    -0.021129   \n",
            "\n",
            "         Acousticness  Instrumentalness  Liveness   Valence     Tempo  \\\n",
            "Cluster                                                                 \n",
            "0            0.525330          2.994580 -0.255148 -0.825313 -0.211275   \n",
            "1           -0.060479         -0.404866  0.143464  0.131040 -0.066424   \n",
            "2            0.252314         -0.392090 -0.145585 -0.015638 -0.082890   \n",
            "3           -1.097182         -0.028356  0.039924  0.045535  0.215289   \n",
            "4           -0.060560         -0.306145 -0.152846  0.056643 -0.053081   \n",
            "5           -0.137843         -0.404803  1.403172  0.392473  0.060939   \n",
            "6            1.318134         -0.404635 -0.063474 -0.565591 -0.139153   \n",
            "7           -1.309661         -0.395073  0.247603 -0.188803  0.522336   \n",
            "8           -0.258374         -0.404605 -0.471019  0.104964 -0.069828   \n",
            "9           -0.216385         -0.404767  0.134001  0.121203  0.133793   \n",
            "10           1.532047          1.011281 -0.250370 -0.887017 -0.331613   \n",
            "11          -0.114419         -0.404764 -0.541147  0.185209  0.003357   \n",
            "12          -0.046633         -0.391237 -0.009175  0.179014  0.050074   \n",
            "13          -0.248941          1.464875 -0.055723 -0.007420  0.072505   \n",
            "\n",
            "         Duration_ms  \n",
            "Cluster               \n",
            "0          -0.320157  \n",
            "1          -0.140854  \n",
            "2           0.335509  \n",
            "3           0.056697  \n",
            "4           0.302373  \n",
            "5           0.056010  \n",
            "6           0.034007  \n",
            "7           0.094085  \n",
            "8           0.178739  \n",
            "9          -0.137767  \n",
            "10         -0.168338  \n",
            "11         -0.046508  \n",
            "12          0.002366  \n",
            "13          0.079000  \n"
          ]
        }
      ],
      "source": [
        "import pandas as pd\n",
        "\n",
        "df = pd.read_csv(\"gmm_clustered_songs.csv\")\n",
        "\n",
        "features = ['Danceability', 'Energy', 'Key', 'Loudness', 'Speechiness',\n",
        "            'Acousticness', 'Instrumentalness', 'Liveness', 'Valence', 'Tempo', 'Duration_ms']\n",
        "\n",
        "cluster_summary = df.groupby('Cluster')[features].mean()\n",
        "print(cluster_summary)"
      ]
    },
    {
      "cell_type": "code",
      "execution_count": null,
      "metadata": {
        "id": "qYUHjy7iA9V3",
        "colab": {
          "base_uri": "https://localhost:8080/"
        },
        "outputId": "68ccd3fd-2526-4ce6-bfc6-8696bc703b42"
      },
      "outputs": [
        {
          "output_type": "stream",
          "name": "stdout",
          "text": [
            "Refined genre classification applied successfully.\n"
          ]
        }
      ],
      "source": [
        "#classification of clusters based on audio features\n",
        "import pandas as pd\n",
        "import pickle\n",
        "\n",
        "df_unlabeled = pd.read_csv(\"gmm_clustered_songs.csv\")\n",
        "\n",
        "def cluster_mapping(row):\n",
        "    if row[\"Loudness\"] > 0.3 and row[\"Energy\"] > 0.6:\n",
        "        if row[\"Instrumentalness\"] < -0.3:\n",
        "            return \"Hard Rock / Heavy Metal / Punk Rock\"\n",
        "        elif row[\"Speechiness\"] > 0.4:\n",
        "            return \"Rap / Hip-Hop\"\n",
        "        else:\n",
        "            return \"Rock / Alternative Rock / Classic Rock\"\n",
        "    elif row[\"Acousticness\"] > 0.6 and row[\"Loudness\"] < -0.5:\n",
        "        return \"Classical / Orchestral / Ambient\"\n",
        "    elif row[\"Danceability\"] > 0.5 and row[\"Valence\"] > 0:\n",
        "        if row[\"Energy\"] > 0.6:\n",
        "            return \"Pop / Dance / Commercial Pop\"\n",
        "        else:\n",
        "            return \"Indie Pop / Synth Pop\"\n",
        "    elif row[\"Speechiness\"] > 0.4 and row[\"Energy\"] > 0.5:\n",
        "        return \"Hip-Hop / Rap / R&B\"\n",
        "    elif row[\"Acousticness\"] > 0.4 and row[\"Energy\"] < 0.5:\n",
        "        return \"Folk / Singer-Songwriter / Acoustic Pop\"\n",
        "    elif row[\"Tempo\"] > 0.4 and row[\"Loudness\"] > -0.3:\n",
        "        if row[\"Danceability\"] > 0.5:\n",
        "            return \"EDM / House / Techno\"\n",
        "        else:\n",
        "            return \"Electronic / Experimental\"\n",
        "    elif row[\"Instrumentalness\"] > 1.0 and row[\"Acousticness\"] > 0.5:\n",
        "        return \"Jazz / Blues / Instrumental\"\n",
        "    elif row[\"Liveness\"] > 0.3 and row[\"Energy\"] > 0.4:\n",
        "        return \"Live / Alternative / Jam Band\"\n",
        "    else:\n",
        "        return \"Alternative / Indie / Soft Rock\"\n",
        "\n",
        "cluster_summary[\"Genre\"] = cluster_summary.apply(cluster_mapping, axis=1)\n",
        "\n",
        "df_unlabeled = df_unlabeled.merge(cluster_summary[\"Genre\"], on=\"Cluster\", how=\"left\")\n",
        "\n",
        "df_unlabeled.to_csv(\"gmm_cluster_genre_labeled_songs.csv\", index=False)\n",
        "\n",
        "print(\"Cluster-based genre classification done.\")"
      ]
    }
  ],
  "metadata": {
    "colab": {
      "provenance": []
    },
    "kernelspec": {
      "display_name": "Python 3",
      "name": "python3"
    },
    "language_info": {
      "name": "python"
    }
  },
  "nbformat": 4,
  "nbformat_minor": 0
}